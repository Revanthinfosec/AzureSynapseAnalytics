{
  "nbformat": 4,
  "nbformat_minor": 2,
  "metadata": {
    "kernelspec": {
      "name": "synapse_pyspark",
      "display_name": "Synapse PySpark"
    },
    "language_info": {
      "name": "python"
    },
    "save_output": true,
    "synapse_widget": {
      "version": "0.1",
      "state": {
        "23f00c67-c72e-4bf0-9e93-a9ac0c0281be": {
          "type": "Synapse.DataFrame",
          "sync_state": {
            "table": {
              "rows": [
                {
                  "0": "771",
                  "1": "Mountain-100 Silver, 38",
                  "2": "Mountain Bikes",
                  "3": "3399.9900"
                },
                {
                  "0": "772",
                  "1": "Mountain-100 Silver, 42",
                  "2": "Mountain Bikes",
                  "3": "3399.9900"
                },
                {
                  "0": "773",
                  "1": "Mountain-100 Silver, 44",
                  "2": "Mountain Bikes",
                  "3": "3399.9900"
                },
                {
                  "0": "774",
                  "1": "Mountain-100 Silver, 48",
                  "2": "Mountain Bikes",
                  "3": "3399.9900"
                },
                {
                  "0": "775",
                  "1": "Mountain-100 Black, 38",
                  "2": "Mountain Bikes",
                  "3": "3374.9900"
                },
                {
                  "0": "776",
                  "1": "Mountain-100 Black, 42",
                  "2": "Mountain Bikes",
                  "3": "3374.9900"
                },
                {
                  "0": "777",
                  "1": "Mountain-100 Black, 44",
                  "2": "Mountain Bikes",
                  "3": "3374.9900"
                },
                {
                  "0": "778",
                  "1": "Mountain-100 Black, 48",
                  "2": "Mountain Bikes",
                  "3": "3374.9900"
                },
                {
                  "0": "779",
                  "1": "Mountain-200 Silver, 38",
                  "2": "Mountain Bikes",
                  "3": "2319.9900"
                },
                {
                  "0": "780",
                  "1": "Mountain-200 Silver, 42",
                  "2": "Mountain Bikes",
                  "3": "2319.9900"
                }
              ],
              "schema": [
                {
                  "key": "0",
                  "name": "ProductID",
                  "type": "string"
                },
                {
                  "key": "1",
                  "name": "ProductName",
                  "type": "string"
                },
                {
                  "key": "2",
                  "name": "Category",
                  "type": "string"
                },
                {
                  "key": "3",
                  "name": "ListPrice",
                  "type": "string"
                }
              ],
              "truncated": false
            },
            "isSummary": false,
            "language": "scala"
          },
          "persist_state": {
            "view": {
              "type": "details",
              "tableOptions": {},
              "chartOptions": {
                "chartType": "bar",
                "aggregationType": "count",
                "categoryFieldKeys": [
                  "0"
                ],
                "seriesFieldKeys": [
                  "0"
                ],
                "isStacked": false
              }
            }
          }
        },
        "8064e845-389f-435d-91b7-8295185f560f": {
          "type": "Synapse.DataFrame",
          "sync_state": {
            "table": {
              "rows": [
                {
                  "0": "Headsets",
                  "1": "3"
                },
                {
                  "0": "Wheels",
                  "1": "14"
                },
                {
                  "0": "Bottom Brackets",
                  "1": "3"
                },
                {
                  "0": "Touring Frames",
                  "1": "18"
                },
                {
                  "0": "Mountain Bikes",
                  "1": "32"
                },
                {
                  "0": "Pedals",
                  "1": "7"
                },
                {
                  "0": "Derailleurs",
                  "1": "2"
                },
                {
                  "0": "Chains",
                  "1": "1"
                },
                {
                  "0": "Pumps",
                  "1": "2"
                },
                {
                  "0": "Hydration Packs",
                  "1": "1"
                },
                {
                  "0": "Road Bikes",
                  "1": "43"
                },
                {
                  "0": "Bottles and Cages",
                  "1": "3"
                },
                {
                  "0": "Road Frames",
                  "1": "33"
                },
                {
                  "0": "Forks",
                  "1": "3"
                },
                {
                  "0": "Vests",
                  "1": "3"
                },
                {
                  "0": "Brakes",
                  "1": "2"
                },
                {
                  "0": "Helmets",
                  "1": "3"
                },
                {
                  "0": "Saddles",
                  "1": "9"
                },
                {
                  "0": "Tights",
                  "1": "3"
                },
                {
                  "0": "Jerseys",
                  "1": "8"
                },
                {
                  "0": "Gloves",
                  "1": "6"
                },
                {
                  "0": "Panniers",
                  "1": "1"
                },
                {
                  "0": "Touring Bikes",
                  "1": "22"
                },
                {
                  "0": "Bike Racks",
                  "1": "1"
                },
                {
                  "0": "Fenders",
                  "1": "1"
                },
                {
                  "0": "Caps",
                  "1": "1"
                },
                {
                  "0": "Lights",
                  "1": "3"
                },
                {
                  "0": "Cranksets",
                  "1": "3"
                },
                {
                  "0": "Shorts",
                  "1": "7"
                },
                {
                  "0": "Locks",
                  "1": "1"
                },
                {
                  "0": "Bike Stands",
                  "1": "1"
                },
                {
                  "0": "Bib-Shorts",
                  "1": "3"
                },
                {
                  "0": "Handlebars",
                  "1": "8"
                },
                {
                  "0": "Mountain Frames",
                  "1": "28"
                },
                {
                  "0": "Tires and Tubes",
                  "1": "11"
                },
                {
                  "0": "Cleaners",
                  "1": "1"
                },
                {
                  "0": "Socks",
                  "1": "4"
                }
              ],
              "schema": [
                {
                  "key": "0",
                  "name": "Category",
                  "type": "string"
                },
                {
                  "key": "1",
                  "name": "count",
                  "type": "bigint"
                }
              ],
              "truncated": false
            },
            "isSummary": false,
            "language": "scala"
          },
          "persist_state": {
            "view": {
              "type": "details",
              "tableOptions": {},
              "chartOptions": {
                "chartType": "bar",
                "aggregationType": "sum",
                "categoryFieldKeys": [
                  "0"
                ],
                "seriesFieldKeys": [
                  "1"
                ],
                "isStacked": false
              }
            }
          }
        }
      }
    }
  },
  "cells": [
    {
      "cell_type": "code",
      "execution_count": 3,
      "outputs": [
        {
          "output_type": "display_data",
          "data": {
            "application/vnd.livy.statement-meta+json": {
              "spark_pool": "sparkdtu9yfm",
              "session_id": "0",
              "statement_id": 4,
              "state": "finished",
              "livy_statement_state": "available",
              "queued_time": "2023-12-08T17:03:48.1275968Z",
              "session_start_time": null,
              "execution_start_time": "2023-12-08T17:03:48.2494357Z",
              "execution_finish_time": "2023-12-08T17:03:53.5829393Z",
              "spark_jobs": null,
              "parent_msg_id": "4b6c8b45-0e55-4d65-a5ed-91b401d1fbb1"
            },
            "text/plain": "StatementMeta(sparkdtu9yfm, 0, 4, Finished, Available)"
          },
          "metadata": {}
        },
        {
          "output_type": "display_data",
          "data": {
            "application/vnd.synapse.widget-view+json": {
              "widget_id": "8064e845-389f-435d-91b7-8295185f560f",
              "widget_type": "Synapse.DataFrame"
            },
            "text/plain": "SynapseWidget(Synapse.DataFrame, 8064e845-389f-435d-91b7-8295185f560f)"
          },
          "metadata": {}
        }
      ],
      "metadata": {
        "jupyter": {
          "source_hidden": false,
          "outputs_hidden": false
        },
        "nteract": {
          "transient": {
            "deleting": false
          }
        },
        "collapsed": false
      },
      "source": [
        "df_counts = df.groupby(df.Category).count()\n",
        "display(df_counts)"
      ]
    },
    {
      "cell_type": "code",
      "execution_count": 2,
      "outputs": [
        {
          "output_type": "display_data",
          "data": {
            "application/vnd.livy.statement-meta+json": {
              "spark_pool": "sparkdtu9yfm",
              "session_id": "0",
              "statement_id": 3,
              "state": "finished",
              "livy_statement_state": "available",
              "queued_time": "2023-12-08T17:00:45.7787493Z",
              "session_start_time": null,
              "execution_start_time": "2023-12-08T17:00:45.9092435Z",
              "execution_finish_time": "2023-12-08T17:00:58.5152463Z",
              "spark_jobs": null,
              "parent_msg_id": "737142df-1af0-4c8a-9ba0-d54264cd17c3"
            },
            "text/plain": "StatementMeta(sparkdtu9yfm, 0, 3, Finished, Available)"
          },
          "metadata": {}
        },
        {
          "output_type": "display_data",
          "data": {
            "application/vnd.synapse.widget-view+json": {
              "widget_id": "23f00c67-c72e-4bf0-9e93-a9ac0c0281be",
              "widget_type": "Synapse.DataFrame"
            },
            "text/plain": "SynapseWidget(Synapse.DataFrame, 23f00c67-c72e-4bf0-9e93-a9ac0c0281be)"
          },
          "metadata": {}
        }
      ],
      "metadata": {
        "microsoft": {
          "language": "python"
        },
        "collapsed": false
      },
      "source": [
        "%%pyspark\r\n",
        "df = spark.read.load('abfss://files@datalakedtu9yfm.dfs.core.windows.net/product_data/products.csv', format='csv'\r\n",
        "## If header exists uncomment line below\r\n",
        ", header=True\r\n",
        ")\r\n",
        "display(df.limit(10))"
      ]
    }
  ]
}